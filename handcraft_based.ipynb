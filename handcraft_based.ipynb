{
  "nbformat": 4,
  "nbformat_minor": 0,
  "metadata": {
    "colab": {
      "name": "handcraft.ipynb",
      "provenance": [],
      "collapsed_sections": [],
      "mount_file_id": "1kF-v_WixLwhcWp0AO08jn13UjKY11ozA",
      "authorship_tag": "ABX9TyM7gumcDMrLmEik9VNBSPkw",
      "include_colab_link": true
    },
    "kernelspec": {
      "name": "python3",
      "display_name": "Python 3"
    },
    "language_info": {
      "name": "python"
    }
  },
  "cells": [
    {
      "cell_type": "markdown",
      "metadata": {
        "id": "view-in-github",
        "colab_type": "text"
      },
      "source": [
        "<a href=\"https://colab.research.google.com/github/Cheesykung/Sugar-cane-leaves-Recognition/blob/master/handcraft_base.ipynb\" target=\"_parent\"><img src=\"https://colab.research.google.com/assets/colab-badge.svg\" alt=\"Open In Colab\"/></a>"
      ]
    },
    {
      "cell_type": "code",
      "metadata": {
        "id": "iBzhj02EH3x4",
        "cellView": "form"
      },
      "source": [
        "#@title Import\n",
        "import math\n",
        "import cv2\n",
        "import numpy as np\n",
        "import sklearn.neighbors as sn\n",
        "import skimage.feature as skf\n",
        "import pandas as pd\n",
        "from tqdm import tqdm\n",
        "import tensorflow as tf\n",
        "import numpy as np\n",
        "import random\n",
        "\n",
        "# for debugging\n",
        "# from google.colab.patches import cv2_imshow # for image display"
      ],
      "execution_count": 475,
      "outputs": []
    },
    {
      "cell_type": "code",
      "metadata": {
        "id": "_vpz6phVJHfp",
        "cellView": "form"
      },
      "source": [
        "#@title Create Grey Model\n",
        "train = pd.read_csv('/content/drive/MyDrive/imgTrans/Tr/train.csv') # edit path (csv only)\n",
        "train.head()\n",
        "\n",
        "featureTr = []\n",
        "labelTr = []\n",
        "\n",
        "# add label\n",
        "train_label = train['label'].values\n",
        "for label in train['label']:\n",
        "  labelTr.append(label)\n",
        "\n",
        "copy_label = labelTr.copy()\n",
        "train_img = []\n",
        "\n",
        "paraQuantize = 64\n",
        "paraAngle = [0, 45, 90, 135]\n",
        "paraDistance = [1]\n",
        "\n",
        "# create model\n",
        "for img_name in tqdm(train['id']):\n",
        "  # read รูป\n",
        "  path = '/content/drive/MyDrive/imgTrans/Tr/' + str(img_name) + '.JPG'; # path รูป\n",
        "  pic = cv2.imread(path)\n",
        "\n",
        "  imgArray = cv2.cvtColor(pic, cv2.COLOR_BGR2GRAY) # (รูปที่จะเปลี่ยน, สีที่เปลี่ยนไป) แปลงสีเป็นสีเทา\n",
        "  img = (imgArray / (256/paraQuantize)).astype(int); # Image Quantization หยิบข้อมูลทุกๆ\n",
        "\n",
        "  glcm = skf.greycomatrix(img, distances=paraDistance, angles=paraAngle, levels=paraQuantize, symmetric=True, normed=True)\n",
        "\n",
        "  featureCon = skf.greycoprops(glcm, 'contrast')[0]\n",
        "  featureEne = skf.greycoprops(glcm, 'energy')[0]\n",
        "  featureHom = skf.greycoprops(glcm, 'homogeneity')[0]\n",
        "  featureCor = skf.greycoprops(glcm, 'correlation')[0]\n",
        "  featureTmp = np.hstack((featureCon, featureEne, featureHom, featureCor))\n",
        "  featureTr.append(featureTmp)\n",
        "\n",
        "\n",
        "featureTr = np.array(featureTr)\n",
        "\n",
        "# save grey data\n",
        "grey = featureTr.copy()"
      ],
      "execution_count": null,
      "outputs": []
    },
    {
      "cell_type": "code",
      "metadata": {
        "id": "Pibj0UmBaJ9i",
        "cellView": "form"
      },
      "source": [
        "#@title Create Color Histograms Model\n",
        "train = pd.read_csv('/content/drive/MyDrive/imgTrans/Tr/train.csv') # edit path (csv only)\n",
        "train.head()\n",
        "\n",
        "train_img = [] # Reset Values\n",
        "featureTr = [] # Reset Values\n",
        "\n",
        "for img_name in tqdm(train['id']):\n",
        "  # for _id in range(1,8):\n",
        "  path = '/content/drive/MyDrive/imgTrans/Tr/' + str(img_name) + '.JPG';\n",
        "  img = cv2.imread(path)\n",
        "  train_img.append(img)\n",
        "  # แปลงภาพให้อยู่บนปริภูมิสีHSV\n",
        "  out = cv2.cvtColor(img, cv2.COLOR_BGR2HSV)\n",
        "  # แปลงข้อมูลจากเมตริกซ์ให้อยู่ในรูปแบบเวกเตอร์ เฉพาะ Hue\n",
        "  out = out[:,:,0].reshape(1,-1);\n",
        "  # สร้างฮิสโตแกรมจาก Hue\n",
        "  hist, bins = np.histogram(out,bins = np.arange(0,256,1) )\n",
        "  # Normalization เพื่อทำให้ Feature สามารถรองรับขนาดภาพที่แตกต่างกันได้\n",
        "  featureTr.append([hist/np.sum(hist)])\n",
        "\n",
        "featureTr = np.array(featureTr)\n",
        "feature_Tr = featureTr.reshape(len(featureTr),-1)\n",
        "\n",
        "# save color data\n",
        "color = feature_Tr.copy()"
      ],
      "execution_count": null,
      "outputs": []
    },
    {
      "cell_type": "code",
      "metadata": {
        "cellView": "form",
        "id": "P8mQ6Tgy-BCP",
        "colab": {
          "base_uri": "https://localhost:8080/"
        },
        "outputId": "03f26156-68ac-4618-b994-d200c0c98e6c"
      },
      "source": [
        "#@title Default Run All\n",
        "\n",
        "path = '/content/drive/MyDrive/imgTrans/Tr/green/DSC00031.JPG'; # edit picture path\n",
        "img = cv2.imread(path)\n",
        "\n",
        "# grey transform (test)\n",
        "imgArray = cv2.cvtColor(img, cv2.COLOR_BGR2GRAY)\n",
        "greyImg = (imgArray / (256/paraQuantize)).astype(int); # Image Quantization\n",
        "glcm = skf.greycomatrix(greyImg, distances=paraDistance, angles=paraAngle, levels=paraQuantize, symmetric=True, normed=True)\n",
        "featureCon = skf.greycoprops(glcm, 'contrast')[0]\n",
        "featureEne = skf.greycoprops(glcm, 'energy')[0]\n",
        "featureHom = skf.greycoprops(glcm, 'homogeneity')[0]\n",
        "featureCor = skf.greycoprops(glcm, 'correlation')[0]\n",
        "greyTs = [np.hstack((featureCon, featureEne, featureHom, featureCor))]\n",
        "\n",
        "# color transform (test)\n",
        "out = cv2.cvtColor(img, cv2.COLOR_BGR2HSV)\n",
        "out = out[:,:,0].reshape(1, -1)\n",
        "hist, bins = np.histogram(out,bins = np.arange(0, 256, 1))\n",
        "tmp = [hist/np.sum(hist)]\n",
        "colorTs = (np.array([tmp])).reshape(1, -1)\n",
        "\n",
        "# concat 2d array grey + color (model)\n",
        "featureTr = np.concatenate((grey, color), axis=1)\n",
        "# concat 2d array grey + color (test)\n",
        "featureTs = np.concatenate((greyTs, colorTs), axis=1)\n",
        "\n",
        "classifier = sn.KNeighborsClassifier(n_neighbors=1)\n",
        "\n",
        "# fit model\n",
        "classifier.fit(featureTr, labelTr)\n",
        "\n",
        "# prediction\n",
        "out_color = classifier.predict(featureTs)\n",
        "\n",
        "# calculate probrability\n",
        "# x = classifier.predict_proba(featureTs)\n",
        "# confident = math.floor(max(x[0].tolist()) * 100)\n",
        "# x = classifier.score(grey, labelTr, sample_weight=None)\n",
        "\n",
        "# Output\n",
        "print('Answer is ' + str(out_color)) "
      ],
      "execution_count": 478,
      "outputs": [
        {
          "output_type": "stream",
          "text": [
            "Answer is ['green']\n"
          ],
          "name": "stdout"
        }
      ]
    },
    {
      "cell_type": "code",
      "metadata": {
        "id": "iql2qVDjZ5Cp",
        "cellView": "form"
      },
      "source": [
        "#@title Default Run (Grey)\n",
        "#Testing Image Loader and Feature Extraction\n",
        "path = '/content/drive/MyDrive/imgTrans/Tr/DSC00037.JPG'; # edit path\n",
        "pic = cv2.imread(path)\n",
        "\n",
        "imgArray = cv2.cvtColor(pic, cv2.COLOR_BGR2GRAY)\n",
        "img = (imgArray / (256/paraQuantize)).astype(int); # Image Quantization\n",
        "\n",
        "glcm = skf.greycomatrix(img, distances=paraDistance, angles=paraAngle, levels=paraQuantize, \n",
        "symmetric=True, normed=True)\n",
        "\n",
        "featureCon = skf.greycoprops(glcm, 'contrast')[0]\n",
        "featureEne = skf.greycoprops(glcm, 'energy')[0]\n",
        "featureHom = skf.greycoprops(glcm, 'homogeneity')[0]\n",
        "featureCor = skf.greycoprops(glcm, 'correlation')[0]\n",
        "featureTs = [np.hstack((featureCon, featureEne, featureHom, featureCor))]\n",
        "\n",
        "# define classifier\n",
        "classifier = sn.KNeighborsClassifier(n_neighbors=1)\n",
        "\n",
        "# learning\n",
        "classifier.fit(grey, labelTr)\n",
        "\n",
        "# predict\n",
        "out = classifier.predict(featureTs)\n",
        "\n",
        "# Output\n",
        "print('Answer is ' + str(out))"
      ],
      "execution_count": null,
      "outputs": []
    },
    {
      "cell_type": "code",
      "metadata": {
        "id": "7PS0mwnTEJXt",
        "cellView": "form"
      },
      "source": [
        "#@title Default Run (Color)\n",
        "path = '/content/drive/MyDrive/imgTrans/Tr/green/DSC00031.JPG';\n",
        "img = cv2.imread(path)\n",
        "out = cv2.cvtColor(img, cv2.COLOR_BGR2HSV)\n",
        "\n",
        "# color transform (test)\n",
        "out = cv2.cvtColor(img, cv2.COLOR_BGR2HSV)\n",
        "out = out[:,:,0].reshape(1, -1)\n",
        "hist, bins = np.histogram(out,bins = np.arange(0, 256, 1)) \n",
        "tmp = [hist/np.sum(hist)]\n",
        "colorTs = (np.array([tmp])).reshape(1, -1)\n",
        "\n",
        "# define classifier\n",
        "classifier = sn.KNeighborsClassifier(n_neighbors=1)\n",
        "\n",
        "# learning\n",
        "classifier.fit(color, labelTr)\n",
        "\n",
        "# predict\n",
        "out_color = classifier.predict(colorTs)\n",
        "print('Answer is ' + str(out_color))"
      ],
      "execution_count": null,
      "outputs": []
    }
  ]
}
